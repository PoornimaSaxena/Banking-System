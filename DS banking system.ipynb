{
 "cells": [
  {
   "cell_type": "code",
   "execution_count": null,
   "id": "c6204be5-bbd6-4eb0-8635-d1718340e40a",
   "metadata": {},
   "outputs": [
    {
     "name": "stdout",
     "output_type": "stream",
     "text": [
      "\n",
      "Bank Account Management System\n",
      "1. Open a new account\n",
      "2. View account details\n",
      "3. Perform transactions\n",
      "4. View transaction history\n",
      "5. View passbook\n",
      "6. Exit\n"
     ]
    },
    {
     "name": "stdin",
     "output_type": "stream",
     "text": [
      "Enter your choice:  1\n",
      "Enter account holder's name:  Ayushi \n",
      "Enter account type (savings/current):  saving\n",
      "Enter initial balance:  50000\n"
     ]
    },
    {
     "name": "stdout",
     "output_type": "stream",
     "text": [
      "Account created successfully. Account Number: 9536123082\n",
      "\n",
      "Bank Account Management System\n",
      "1. Open a new account\n",
      "2. View account details\n",
      "3. Perform transactions\n",
      "4. View transaction history\n",
      "5. View passbook\n",
      "6. Exit\n"
     ]
    },
    {
     "name": "stdin",
     "output_type": "stream",
     "text": [
      "Enter your choice:  2\n",
      "Enter account number:  9536123082\n"
     ]
    },
    {
     "name": "stdout",
     "output_type": "stream",
     "text": [
      "Account Holder: Ayushi \n",
      "Account Number: 9536123082\n",
      "Account Type: saving\n",
      "Current Balance: ₹50000.0\n",
      "\n",
      "\n",
      "Bank Account Management System\n",
      "1. Open a new account\n",
      "2. View account details\n",
      "3. Perform transactions\n",
      "4. View transaction history\n",
      "5. View passbook\n",
      "6. Exit\n"
     ]
    },
    {
     "name": "stdin",
     "output_type": "stream",
     "text": [
      "Enter your choice:  1\n",
      "Enter account holder's name:  Shree\n",
      "Enter account type (savings/current):  Current\n",
      "Enter initial balance:  200000\n"
     ]
    },
    {
     "name": "stdout",
     "output_type": "stream",
     "text": [
      "Account created successfully. Account Number: 5306873058\n",
      "\n",
      "Bank Account Management System\n",
      "1. Open a new account\n",
      "2. View account details\n",
      "3. Perform transactions\n",
      "4. View transaction history\n",
      "5. View passbook\n",
      "6. Exit\n"
     ]
    },
    {
     "name": "stdin",
     "output_type": "stream",
     "text": [
      "Enter your choice:  1\n",
      "Enter account holder's name:  Ankita\n",
      "Enter account type (savings/current):  Saving\n",
      "Enter initial balance:  600000\n"
     ]
    },
    {
     "name": "stdout",
     "output_type": "stream",
     "text": [
      "Account created successfully. Account Number: 6838989523\n",
      "\n",
      "Bank Account Management System\n",
      "1. Open a new account\n",
      "2. View account details\n",
      "3. Perform transactions\n",
      "4. View transaction history\n",
      "5. View passbook\n",
      "6. Exit\n"
     ]
    },
    {
     "name": "stdin",
     "output_type": "stream",
     "text": [
      "Enter your choice:  3\n",
      "Enter account number:   9536123082\n"
     ]
    },
    {
     "name": "stdout",
     "output_type": "stream",
     "text": [
      "Account not found.\n",
      "\n",
      "Bank Account Management System\n",
      "1. Open a new account\n",
      "2. View account details\n",
      "3. Perform transactions\n",
      "4. View transaction history\n",
      "5. View passbook\n",
      "6. Exit\n"
     ]
    },
    {
     "name": "stdin",
     "output_type": "stream",
     "text": [
      "Enter your choice:  3\n",
      "Enter account number:  6838989523\n"
     ]
    },
    {
     "name": "stdout",
     "output_type": "stream",
     "text": [
      "1. Deposit\n",
      "2. Withdraw\n",
      "3. Transfer\n"
     ]
    },
    {
     "name": "stdin",
     "output_type": "stream",
     "text": [
      "Enter transaction type:  3\n",
      "Enter target account number:  9536123082\n",
      "Enter transfer amount:  2000\n"
     ]
    },
    {
     "name": "stdout",
     "output_type": "stream",
     "text": [
      "Transferred ₹2000.0 to Account 9536123082.\n",
      "\n",
      "Bank Account Management System\n",
      "1. Open a new account\n",
      "2. View account details\n",
      "3. Perform transactions\n",
      "4. View transaction history\n",
      "5. View passbook\n",
      "6. Exit\n"
     ]
    },
    {
     "name": "stdin",
     "output_type": "stream",
     "text": [
      "Enter your choice:  3\n",
      "Enter account number:  9536123082\n"
     ]
    },
    {
     "name": "stdout",
     "output_type": "stream",
     "text": [
      "1. Deposit\n",
      "2. Withdraw\n",
      "3. Transfer\n"
     ]
    },
    {
     "name": "stdin",
     "output_type": "stream",
     "text": [
      "Enter transaction type:  3\n",
      "Enter target account number:  6838989523\n",
      "Enter transfer amount:  4000\n"
     ]
    },
    {
     "name": "stdout",
     "output_type": "stream",
     "text": [
      "Transferred ₹4000.0 to Account 6838989523.\n",
      "\n",
      "Bank Account Management System\n",
      "1. Open a new account\n",
      "2. View account details\n",
      "3. Perform transactions\n",
      "4. View transaction history\n",
      "5. View passbook\n",
      "6. Exit\n"
     ]
    },
    {
     "name": "stdin",
     "output_type": "stream",
     "text": [
      "Enter your choice:  3\n",
      "Enter account number:  6838989523\n"
     ]
    },
    {
     "name": "stdout",
     "output_type": "stream",
     "text": [
      "1. Deposit\n",
      "2. Withdraw\n",
      "3. Transfer\n"
     ]
    },
    {
     "name": "stdin",
     "output_type": "stream",
     "text": [
      "Enter transaction type:  3\n",
      "Enter target account number:  9536123082\n",
      "Enter transfer amount:  5000\n"
     ]
    },
    {
     "name": "stdout",
     "output_type": "stream",
     "text": [
      "Transferred ₹5000.0 to Account 9536123082.\n",
      "\n",
      "Bank Account Management System\n",
      "1. Open a new account\n",
      "2. View account details\n",
      "3. Perform transactions\n",
      "4. View transaction history\n",
      "5. View passbook\n",
      "6. Exit\n"
     ]
    },
    {
     "name": "stdin",
     "output_type": "stream",
     "text": [
      "Enter your choice:  5\n",
      "Enter account number:  9536123082\n"
     ]
    },
    {
     "name": "stdout",
     "output_type": "stream",
     "text": [
      "\n",
      "Passbook for Account: 9536123082\n",
      "Account Holder: Ayushi \n",
      "Account Type: saving\n",
      "Current Balance: ₹ 53000.0\n",
      "\n",
      "Transaction History:\n",
      "Date                 Type            Amount (₹) Balance   \n",
      "2025-02-01 21:18:50  Transfer In     5000.0     48000.0   \n",
      "2025-02-01 21:18:03  Transfer Out    4000.0     52000.0   \n",
      "2025-02-01 21:16:57  Transfer In     2000.0     50000.0   \n",
      "\n",
      "Bank Account Management System\n",
      "1. Open a new account\n",
      "2. View account details\n",
      "3. Perform transactions\n",
      "4. View transaction history\n",
      "5. View passbook\n",
      "6. Exit\n"
     ]
    }
   ],
   "source": [
    "import pickle\n",
    "import numpy as np\n",
    "from datetime import datetime\n",
    "import random\n",
    "import string\n",
    "\n",
    "# Global variables\n",
    "accounts_file = \"accounts.pkl\"\n",
    "transactions_file = \"transactions.pkl\"\n",
    "\n",
    "# Account class\n",
    "class Account:\n",
    "    def __init__(self, name, account_type, balance=0):\n",
    "        self.name = name\n",
    "        self.account_number = self.generate_account_number()\n",
    "        self.account_type = account_type\n",
    "        self.balance = balance\n",
    "        self.transactions = []\n",
    "\n",
    "    def generate_account_number(self):\n",
    "        # Generate a random and unique 10-digit account number\n",
    "        while True:\n",
    "            account_number = ''.join(random.choices(string.digits, k=10))\n",
    "            if account_number not in accounts:\n",
    "                return account_number\n",
    "\n",
    "    def deposit(self, amount):\n",
    "        if amount > 0:\n",
    "            self.balance += amount\n",
    "            self.transactions.append((\"Deposit\", amount, datetime.now()))\n",
    "            print(f\"Deposited ₹{amount}. New balance: ₹{self.balance}\")\n",
    "        else:\n",
    "            print(\"Invalid deposit amount.\")\n",
    "\n",
    "    def withdraw(self, amount):\n",
    "        if amount > 0 and amount <= self.balance:\n",
    "            self.balance -= amount\n",
    "            self.transactions.append((\"Withdrawal\", amount, datetime.now()))\n",
    "            print(f\"Withdrew ₹{amount}. New balance: ₹{self.balance}\")\n",
    "        else:\n",
    "            print(\"Invalid withdrawal amount or insufficient balance.\")\n",
    "\n",
    "    def transfer(self, target_account, amount):\n",
    "        if amount > 0 and amount <= self.balance:\n",
    "            self.balance -= amount\n",
    "            target_account.balance += amount\n",
    "            self.transactions.append((\"Transfer Out\", amount, datetime.now()))\n",
    "            target_account.transactions.append((\"Transfer In\", amount, datetime.now()))\n",
    "            print(f\"Transferred ₹{amount} to Account {target_account.account_number}.\")\n",
    "        else:\n",
    "            print(\"Invalid transfer amount or insufficient balance.\")\n",
    "\n",
    "    def get_transaction_history(self):\n",
    "        return self.transactions\n",
    "\n",
    "    def get_summary_statistics(self):\n",
    "        amounts = [t[1] for t in self.transactions]\n",
    "        if amounts:\n",
    "            return {\n",
    "                \"Total Deposits\": np.sum([t[1] for t in self.transactions if t[0] == \"Deposit\"]),\n",
    "                \"Total Withdrawals\": np.sum([t[1] for t in self.transactions if t[0] == \"Withdrawal\"]),\n",
    "                \"Average Transaction\": np.mean(amounts),\n",
    "            }\n",
    "        return {\"Total Deposits\": 0, \"Total Withdrawals\": 0, \"Average Transaction\": 0}\n",
    "\n",
    "    def view_passbook(self):\n",
    "        print(\"\\nPassbook for Account:\", self.account_number)\n",
    "        print(\"Account Holder:\", self.name)\n",
    "        print(\"Account Type:\", self.account_type)\n",
    "        print(\"Current Balance: ₹\", self.balance)\n",
    "        print(\"\\nTransaction History:\")\n",
    "        print(\"{:<20} {:<15} {:<10} {:<10}\".format(\"Date\", \"Type\", \"Amount (₹)\", \"Balance\"))\n",
    "        balance = self.balance\n",
    "        for transaction in reversed(self.transactions):\n",
    "            if transaction[0] == \"Deposit\":\n",
    "                balance -= transaction[1]\n",
    "            elif transaction[0] == \"Withdrawal\":\n",
    "                balance += transaction[1]\n",
    "            elif transaction[0] == \"Transfer Out\":\n",
    "                balance += transaction[1]\n",
    "            elif transaction[0] == \"Transfer In\":\n",
    "                balance -= transaction[1]\n",
    "            print(\"{:<20} {:<15} {:<10} {:<10}\".format(\n",
    "                transaction[2].strftime(\"%Y-%m-%d %H:%M:%S\"),\n",
    "                transaction[0],\n",
    "                transaction[1],\n",
    "                balance\n",
    "            ))\n",
    "\n",
    "    def __str__(self):\n",
    "        return (f\"Account Holder: {self.name}\\n\"\n",
    "                f\"Account Number: {self.account_number}\\n\"\n",
    "                f\"Account Type: {self.account_type}\\n\"\n",
    "                f\"Current Balance: ₹{self.balance}\\n\")\n",
    "\n",
    "\n",
    "# File handling functions\n",
    "def load_data():\n",
    "    try:\n",
    "        with open(accounts_file, \"rb\") as f:\n",
    "            accounts = pickle.load(f)\n",
    "    except (FileNotFoundError, AttributeError):\n",
    "        accounts = {}\n",
    "    try:\n",
    "        with open(transactions_file, \"rb\") as f:\n",
    "            transactions = pickle.load(f)\n",
    "    except (FileNotFoundError, AttributeError):\n",
    "        transactions = {}\n",
    "    return accounts, transactions\n",
    "\n",
    "\n",
    "def save_data(accounts, transactions):\n",
    "    with open(accounts_file, \"wb\") as f:\n",
    "        pickle.dump(accounts, f)\n",
    "    with open(transactions_file, \"wb\") as f:\n",
    "        pickle.dump(transactions, f)\n",
    "\n",
    "\n",
    "# Main program\n",
    "def main():\n",
    "    global accounts\n",
    "    accounts, _ = load_data()\n",
    "\n",
    "    while True:\n",
    "        print(\"\\nBank Account Management System\")\n",
    "        print(\"1. Open a new account\")\n",
    "        print(\"2. View account details\")\n",
    "        print(\"3. Perform transactions\")\n",
    "        print(\"4. View transaction history\")\n",
    "        print(\"5. View passbook\")\n",
    "        print(\"6. Exit\")\n",
    "        choice = input(\"Enter your choice: \")\n",
    "\n",
    "        if choice == \"1\":\n",
    "            name = input(\"Enter account holder's name: \")\n",
    "            account_type = input(\"Enter account type (savings/current): \")\n",
    "            initial_balance = float(input(\"Enter initial balance: \"))\n",
    "            account = Account(name, account_type, initial_balance)\n",
    "            accounts[account.account_number] = account\n",
    "            print(f\"Account created successfully. Account Number: {account.account_number}\")\n",
    "\n",
    "        elif choice == \"2\":\n",
    "            account_number = input(\"Enter account number: \")\n",
    "            account = accounts.get(account_number)\n",
    "            if account:\n",
    "                print(account)\n",
    "            else:\n",
    "                print(\"Account not found.\")\n",
    "\n",
    "        elif choice == \"3\":\n",
    "            account_number = input(\"Enter account number: \")\n",
    "            account = accounts.get(account_number)\n",
    "            if account:\n",
    "                print(\"1. Deposit\")\n",
    "                print(\"2. Withdraw\")\n",
    "                print(\"3. Transfer\")\n",
    "                transaction_choice = input(\"Enter transaction type: \")\n",
    "                if transaction_choice == \"1\":\n",
    "                    amount = float(input(\"Enter deposit amount: \"))\n",
    "                    account.deposit(amount)\n",
    "                elif transaction_choice == \"2\":\n",
    "                    amount = float(input(\"Enter withdrawal amount: \"))\n",
    "                    account.withdraw(amount)\n",
    "                elif transaction_choice == \"3\":\n",
    "                    target_account_number = input(\"Enter target account number: \")\n",
    "                    target_account = accounts.get(target_account_number)\n",
    "                    if target_account:\n",
    "                        amount = float(input(\"Enter transfer amount: \"))\n",
    "                        account.transfer(target_account, amount)\n",
    "                    else:\n",
    "                        print(\"Target account not found.\")\n",
    "                else:\n",
    "                    print(\"Invalid choice.\")\n",
    "            else:\n",
    "                print(\"Account not found.\")\n",
    "\n",
    "        elif choice == \"4\":\n",
    "            account_number = input(\"Enter account number: \")\n",
    "            account = accounts.get(account_number)\n",
    "            if account:\n",
    "                print(\"\\nTransaction History:\")\n",
    "                for transaction in account.get_transaction_history():\n",
    "                    print(f\"{transaction[2]}: {transaction[0]} of ₹{transaction[1]}\")\n",
    "                print(\"\\nSummary Statistics:\")\n",
    "                stats = account.get_summary_statistics()\n",
    "                for key, value in stats.items():\n",
    "                    print(f\"{key}: ₹{value}\")\n",
    "            else:\n",
    "                print(\"Account not found.\")\n",
    "\n",
    "        elif choice == \"5\":\n",
    "            account_number = input(\"Enter account number: \")\n",
    "            account = accounts.get(account_number)\n",
    "            if account:\n",
    "                account.view_passbook()\n",
    "            else:\n",
    "                print(\"Account not found.\")\n",
    "\n",
    "        elif choice == \"6\":\n",
    "            save_data(accounts, {})\n",
    "            print(\"Exiting program. Data saved.\")\n",
    "            break\n",
    "\n",
    "        else:\n",
    "            print(\"Invalid choice. Please try again.\")\n",
    "\n",
    "\n",
    "if __name__ == \"__main__\":\n",
    "    main()"
   ]
  },
  {
   "cell_type": "code",
   "execution_count": null,
   "id": "2c78b001-e864-4527-aaa9-ac63ca1f5120",
   "metadata": {},
   "outputs": [],
   "source": []
  }
 ],
 "metadata": {
  "kernelspec": {
   "display_name": "Python 3 (ipykernel)",
   "language": "python",
   "name": "python3"
  },
  "language_info": {
   "codemirror_mode": {
    "name": "ipython",
    "version": 3
   },
   "file_extension": ".py",
   "mimetype": "text/x-python",
   "name": "python",
   "nbconvert_exporter": "python",
   "pygments_lexer": "ipython3",
   "version": "3.13.1"
  }
 },
 "nbformat": 4,
 "nbformat_minor": 5
}
